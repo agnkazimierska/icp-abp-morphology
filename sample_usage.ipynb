{
 "cells": [
  {
   "cell_type": "code",
   "execution_count": 32,
   "id": "97140512",
   "metadata": {},
   "outputs": [],
   "source": [
    "import matplotlib.pyplot as plt\n",
    "import numpy as np\n",
    "import pandas as pd\n",
    "\n",
    "from pathlib import Path\n",
    "import pickle\n",
    "\n",
    "import torch\n",
    "from torch.utils.data import DataLoader, TensorDataset\n",
    "import torch.nn.functional as F"
   ]
  },
  {
   "cell_type": "code",
   "execution_count": 33,
   "id": "94fb9f07",
   "metadata": {},
   "outputs": [],
   "source": [
    "from utils import find_nearest_index, align_pulse, split_pulses\n",
    "from models.models_icp import ArtifactsDetectionModel, ResNet1D\n",
    "from models.models_abp import ShallowResNet1D"
   ]
  },
  {
   "cell_type": "code",
   "execution_count": 34,
   "id": "9bff2ed5",
   "metadata": {},
   "outputs": [
    {
     "data": {
      "text/plain": [
       "<All keys matched successfully>"
      ]
     },
     "execution_count": 34,
     "metadata": {},
     "output_type": "execute_result"
    }
   ],
   "source": [
    "icp_artifacts_model = ArtifactsDetectionModel()\n",
    "icp_artifacts_model.load_state_dict(torch.load(Path(r'models\\icp\\artifacts.pt')))\n",
    "\n",
    "icp_general_model = ResNet1D()\n",
    "icp_general_model.load_state_dict(torch.load(Path(r'models\\icp\\general_class.pth')))\n",
    "\n",
    "icp_subclass_0_1_model = ResNet1D()\n",
    "icp_subclass_0_1_model.load_state_dict(torch.load(Path(r'models\\icp\\subclasses_t0_t1.pth')))\n",
    "\n",
    "icp_subclass_2_3_4_model = ResNet1D(num_classes=3)\n",
    "icp_subclass_2_3_4_model.load_state_dict(torch.load(Path(r'models\\icp\\subclasses_t2_t3_t4.pth')))"
   ]
  },
  {
   "cell_type": "code",
   "execution_count": 35,
   "id": "ccb849d6",
   "metadata": {},
   "outputs": [
    {
     "data": {
      "text/plain": [
       "<All keys matched successfully>"
      ]
     },
     "execution_count": 35,
     "metadata": {},
     "output_type": "execute_result"
    }
   ],
   "source": [
    "abp_artifacts_model = ArtifactsDetectionModel(num_classes=2)\n",
    "abp_artifacts_model.load_state_dict(torch.load(Path(r'models\\abp\\artifacts.pt')))\n",
    "\n",
    "abp_general_model = ShallowResNet1D()\n",
    "abp_general_model.load_state_dict(torch.load(Path(r'models\\abp\\general_class.pth')))"
   ]
  },
  {
   "cell_type": "code",
   "execution_count": 36,
   "id": "7a4b4a56",
   "metadata": {},
   "outputs": [],
   "source": [
    "def batched_predict(model, inputs, batch_size=1024, device='cuda'):\n",
    "    model = model.to(device)\n",
    "    model.eval()\n",
    "    preds = []\n",
    "    confs = []\n",
    "    loader = DataLoader(TensorDataset(inputs), batch_size=batch_size)\n",
    "    with torch.no_grad():\n",
    "        for (batch,) in loader:\n",
    "            batch = batch.to(device)\n",
    "            logits = model(batch)\n",
    "            probs = torch.softmax(logits, dim=1)\n",
    "            conf, pred = torch.max(probs, dim=1)\n",
    "            preds.append(pred.cpu())\n",
    "            confs.append(conf.cpu())\n",
    "    return torch.cat(preds), torch.cat(confs)\n",
    "\n",
    "def get_icp_class(waveforms, model_artifacts, model_general, model_subclass_normal, model_subclass_pathological,\n",
    "    confidence_threshold=0.0, batch_size=1024, device='cuda'):\n",
    "\n",
    "    waveforms = waveforms.to(dtype=torch.float32)\n",
    "    final_preds = torch.full((waveforms.shape[0],), -2, dtype=torch.long)\n",
    "\n",
    "    preds_valid, conf_valid = batched_predict(model_artifacts, waveforms, batch_size=batch_size, device=device)\n",
    "    confident_valid_mask = conf_valid >= confidence_threshold\n",
    "    artifact_mask = (preds_valid == 2) & (preds_valid == 1) & confident_valid_mask\n",
    "\n",
    "    final_preds[artifact_mask] = -1\n",
    "    valid_mask = ~artifact_mask\n",
    "\n",
    "    preds_general, _ = batched_predict(model_general, waveforms)\n",
    "    normal_mask = preds_general == 0\n",
    "    pathological_mask = preds_general == 1\n",
    "\n",
    "    preds_subclass_normal, _ = batched_predict(model_subclass_normal, waveforms)\n",
    "    final_preds[valid_mask & normal_mask] = preds_subclass_normal[valid_mask & normal_mask]\n",
    "\n",
    "    preds_subclass_pathological, _ = batched_predict(model_subclass_pathological, waveforms)\n",
    "    final_preds[valid_mask & pathological_mask] = preds_subclass_pathological[valid_mask & pathological_mask] + 2\n",
    "\n",
    "    return final_preds\n",
    "\n",
    "\n",
    "def get_abp_class(waveforms, model_artifacts, model_general,\n",
    "    confidence_threshold=0.0, batch_size=1024, device='cuda'):\n",
    "\n",
    "    waveforms = waveforms.to(dtype=torch.float32)\n",
    "    final_preds = torch.full((waveforms.shape[0],), -2, dtype=torch.long)\n",
    "\n",
    "    preds_valid, conf_valid = batched_predict(model_artifacts, waveforms)\n",
    "    confident_valid_mask = conf_valid >= confidence_threshold\n",
    "    artifact_mask = (preds_valid == 1) & confident_valid_mask\n",
    "    \n",
    "    final_preds[artifact_mask] = -1\n",
    "    valid_mask = ~artifact_mask\n",
    "\n",
    "    preds_general, _ = batched_predict(model_general, waveforms)\n",
    "    final_preds[valid_mask] = preds_general[valid_mask]\n",
    "\n",
    "    return final_preds"
   ]
  },
  {
   "cell_type": "code",
   "execution_count": 37,
   "id": "8ecfb869",
   "metadata": {},
   "outputs": [],
   "source": [
    "def extract_pulses(time, signal, start_indices, end_indices, output_len=180, device='cpu'):\n",
    "    if not isinstance(signal, torch.Tensor):\n",
    "        signal = torch.tensor(signal, dtype=torch.float32)\n",
    "\n",
    "    signal = signal.to(device)\n",
    "    start_indices = torch.tensor(start_indices, dtype=torch.long, device=device)\n",
    "    end_indices = torch.tensor(end_indices, dtype=torch.long, device=device)\n",
    "\n",
    "    times = []\n",
    "    waveforms = []\n",
    "    for start, end in zip(start_indices, end_indices):\n",
    "        t = time[start:end]\n",
    "        pulse = signal[start:end]\n",
    "        pulse = align_pulse(t, pulse)\n",
    "\n",
    "        pulse = (pulse - pulse.min()) / (pulse.max() - pulse.min())\n",
    "\n",
    "        pulse = pulse.unsqueeze(0).unsqueeze(0)\n",
    "        resampled = F.interpolate(pulse, size=output_len, mode='linear', align_corners=False)\n",
    "\n",
    "        waveforms.append(resampled.squeeze(0))\n",
    "        times.append(t[0])\n",
    "\n",
    "    return torch.stack(waveforms, dim=0), times"
   ]
  },
  {
   "cell_type": "code",
   "execution_count": 41,
   "id": "4a8ea6f2",
   "metadata": {},
   "outputs": [],
   "source": [
    "file_path = Path(r'd:\\Data\\Preludium\\Preludium_release\\PAC03_FULL_SIGNALS.pkl')\n",
    "\n",
    "with open(file_path, 'rb') as f:\n",
    "    data = pickle.load(f)\n",
    "    t = data['t']\n",
    "    icp = data['icp']\n",
    "    abp = data['abp']\n",
    "    fs = data['fs_hat']\n",
    "\n",
    "start_time = t[0]\n",
    "end_idx = find_nearest_index(t, start_time + 2 * 60 * 60)\n",
    "\n",
    "t = t[:end_idx]\n",
    "icp = icp[:end_idx]\n",
    "abp = abp[:end_idx]\n",
    "\n",
    "_, _, pulse_onsets_icp = split_pulses(icp, t, fs)\n",
    "_, _, pulse_onsets_abp = split_pulses(abp, t, fs)\n",
    "\n",
    "pulse_starts_icp = pulse_onsets_icp[:-1]\n",
    "pulse_ends_icp = pulse_onsets_icp[1:]\n",
    "pulses_icp, times_icp = extract_pulses(t, icp, pulse_starts_icp, pulse_ends_icp)\n",
    "\n",
    "pulse_starts_abp = pulse_onsets_abp[:-1]\n",
    "pulse_ends_abp = pulse_onsets_abp[1:]\n",
    "pulses_abp, times_abp = extract_pulses(t, abp, pulse_starts_abp, pulse_ends_abp)\n",
    "\n",
    "predictions_icp = get_icp_class(pulses_icp, icp_artifacts_model, icp_general_model, icp_subclass_0_1_model, icp_subclass_2_3_4_model)\n",
    "predictions_icp = predictions_icp.detach().cpu().numpy()\n",
    "\n",
    "predictions_abp = get_abp_class(pulses_abp, abp_artifacts_model, abp_general_model)\n",
    "predictions_abp = predictions_abp.detach().cpu().numpy()"
   ]
  },
  {
   "cell_type": "code",
   "execution_count": 42,
   "id": "22f93905",
   "metadata": {},
   "outputs": [
    {
     "name": "stdout",
     "output_type": "stream",
     "text": [
      "(array([0, 1, 2, 3, 4], dtype=int64), array([   7,    5,   16, 6331,   12], dtype=int64))\n"
     ]
    }
   ],
   "source": [
    "print(np.unique(predictions_icp, return_counts=True))"
   ]
  },
  {
   "cell_type": "code",
   "execution_count": null,
   "id": "404312a2",
   "metadata": {},
   "outputs": [
    {
     "data": {
      "image/png": "[encoded data removed]",
      "text/plain": [
       "<Figure size 432x288 with 1 Axes>"
      ]
     },
     "metadata": {
      "needs_background": "light"
     },
     "output_type": "display_data"
    }
   ],
   "source": [
    "pulses_icp = pulses_icp.detach().cpu().numpy()\n",
    "pulses_icp = [arr for arr in pulses_icp] \n",
    "for idp, pulse in enumerate(pulses_icp):\n",
    "    f = plt.figure()\n",
    "    plt.plot(pulse)\n",
    "    # plt.title(predictions_icp[idp])\n",
    "    plt.show()"
   ]
  },
  {
   "cell_type": "code",
   "execution_count": null,
   "id": "311465a1",
   "metadata": {},
   "outputs": [
    {
     "name": "stdout",
     "output_type": "stream",
     "text": [
      "<class 'torch.Tensor'>\n",
      "<class 'torch.Tensor'>\n"
     ]
    }
   ],
   "source": [
    "print(type(pulses_icp))         # list? ndarray? tensor?\n",
    "print(type(pulses_icp[0])) "
   ]
  },
  {
   "cell_type": "code",
   "execution_count": null,
   "id": "d0577f15",
   "metadata": {},
   "outputs": [],
   "source": [
    "print(np.unique(predictions_abp, return_counts=True))"
   ]
  }
 ],
 "metadata": {
  "kernelspec": {
   "display_name": "icmpgpu",
   "language": "python",
   "name": "python3"
  },
  "language_info": {
   "codemirror_mode": {
    "name": "ipython",
    "version": 3
   },
   "file_extension": ".py",
   "mimetype": "text/x-python",
   "name": "python",
   "nbconvert_exporter": "python",
   "pygments_lexer": "ipython3",
   "version": "3.9.12"
  }
 },
 "nbformat": 4,
 "nbformat_minor": 5
}
